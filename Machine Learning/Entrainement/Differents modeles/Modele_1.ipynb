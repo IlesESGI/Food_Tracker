{
 "cells": [
  {
   "cell_type": "code",
   "execution_count": 16,
   "metadata": {},
   "outputs": [],
   "source": [
    "import numpy as np\n",
    "import pandas as pd\n",
    "import tensorflow.keras\n",
    "import tensorflow as tf\n",
    "import matplotlib.pyplot as plt\n",
    "import cv2\n",
    "import glob\n",
    "import os"
   ]
  },
  {
   "cell_type": "code",
   "execution_count": 5,
   "metadata": {},
   "outputs": [
    {
     "name": "stdout",
     "output_type": "stream",
     "text": [
      "['.ipynb_checkpoints', 'LICENSE', 'papers', 'readme.md', 'Test', 'test-multiple_fruits', 'test.py', 'tf.py', 'Training', 'Untitled.ipynb']\n"
     ]
    }
   ],
   "source": [
    "print(os.listdir())"
   ]
  },
  {
   "cell_type": "code",
   "execution_count": 15,
   "metadata": {},
   "outputs": [
    {
     "data": {
      "text/plain": [
       "131"
      ]
     },
     "execution_count": 15,
     "metadata": {},
     "output_type": "execute_result"
    }
   ],
   "source": [
    "training_fruit_img = []\n",
    "training_label = []\n",
    "for dir_path in glob.glob(\"Training/*\"):\n",
    "    img_label = dir_path.split(\"\\\\\")[-1]\n",
    "    for image_path in glob.glob(os.path.join(dir_path,\"*.jpg\")):\n",
    "        \n",
    "        image = cv2.imread(image_path,cv2.IMREAD_COLOR)\n",
    "        image = cv2.resize(image, (64, 64))\n",
    "        image = cv2.cvtColor(image, cv2.COLOR_RGB2BGR)\n",
    "        training_fruit_img.append(image)\n",
    "        training_label.append(img_label)\n",
    "training_fruit_img = np.array(training_fruit_img)\n",
    "training_label = np.array(training_label)\n",
    "len(np.unique(training_label))"
   ]
  },
  {
   "cell_type": "code",
   "execution_count": 7,
   "metadata": {},
   "outputs": [],
   "source": [
    "label_to_id = {v:k for k,v in enumerate(np.unique(training_label)) }\n",
    "id_to_label = {v:k for k,v in label_to_id.items() }"
   ]
  },
  {
   "cell_type": "code",
   "execution_count": 10,
   "metadata": {},
   "outputs": [
    {
     "name": "stdout",
     "output_type": "stream",
     "text": [
      "67692\n"
     ]
    }
   ],
   "source": [
    "print(len(training_label))"
   ]
  },
  {
   "cell_type": "code",
   "execution_count": 11,
   "metadata": {},
   "outputs": [
    {
     "data": {
      "text/plain": [
       "array([  0,   0,   0, ..., 130, 130, 130])"
      ]
     },
     "execution_count": 11,
     "metadata": {},
     "output_type": "execute_result"
    }
   ],
   "source": [
    "training_label_id = np.array([label_to_id[i] for i in training_label])\n",
    "training_label_id"
   ]
  },
  {
   "cell_type": "code",
   "execution_count": 12,
   "metadata": {},
   "outputs": [
    {
     "data": {
      "text/plain": [
       "((67692, 64, 64, 3), (67692,))"
      ]
     },
     "execution_count": 12,
     "metadata": {},
     "output_type": "execute_result"
    }
   ],
   "source": [
    "training_fruit_img.shape,training_label_id.shape"
   ]
  },
  {
   "cell_type": "code",
   "execution_count": 13,
   "metadata": {},
   "outputs": [],
   "source": [
    "validation_fruit_img=[]\n",
    "validation_label =[]\n",
    "for dir_path in glob.glob(\"Test/*\"):\n",
    "    img_label = dir_path.split(\"\\\\\")[-1]\n",
    "    for image_path in glob.glob(os.path.join(dir_path,\"*.jpg\")):\n",
    "        image = cv2.imread(image_path,cv2.IMREAD_COLOR)\n",
    "        image = cv2.resize(image, (64, 64))\n",
    "        image = cv2.cvtColor(image, cv2.COLOR_RGB2BGR)\n",
    "        validation_fruit_img.append(image)\n",
    "        validation_label.append(img_label)\n",
    "validation_fruit_img = np.array(validation_fruit_img)\n",
    "validation_label = np.array(validation_label)"
   ]
  },
  {
   "cell_type": "code",
   "execution_count": 14,
   "metadata": {},
   "outputs": [
    {
     "data": {
      "text/plain": [
       "131"
      ]
     },
     "execution_count": 14,
     "metadata": {},
     "output_type": "execute_result"
    }
   ],
   "source": [
    "len(np.unique(validation_label))"
   ]
  },
  {
   "cell_type": "code",
   "execution_count": 18,
   "metadata": {},
   "outputs": [
    {
     "data": {
      "text/plain": [
       "array([  0,   0,   0, ..., 130, 130, 130])"
      ]
     },
     "execution_count": 18,
     "metadata": {},
     "output_type": "execute_result"
    }
   ],
   "source": [
    "validation_label_id = np.array([label_to_id[i] for i in validation_label])\n",
    "validation_label_id"
   ]
  },
  {
   "cell_type": "code",
   "execution_count": 19,
   "metadata": {},
   "outputs": [
    {
     "data": {
      "text/plain": [
       "((22688, 64, 64, 3), (22688,))"
      ]
     },
     "execution_count": 19,
     "metadata": {},
     "output_type": "execute_result"
    }
   ],
   "source": [
    "validation_fruit_img.shape,validation_label_id.shape"
   ]
  },
  {
   "cell_type": "code",
   "execution_count": 21,
   "metadata": {},
   "outputs": [
    {
     "name": "stdout",
     "output_type": "stream",
     "text": [
      "Original Sizes: (67692, 64, 64, 3) (22688, 64, 64, 3) (67692, 131) (22688, 131)\n",
      "Flattened: (67692, 12288) (22688, 12288)\n"
     ]
    }
   ],
   "source": [
    "X_train,X_test = training_fruit_img,validation_fruit_img\n",
    "Y_train,Y_test =training_label_id,validation_label_id\n",
    "X_train = X_train/255\n",
    "X_test = X_test/255\n",
    "\n",
    "X_flat_train = X_train.reshape(X_train.shape[0],64*64*3)\n",
    "X_flat_test = X_test.reshape(X_test.shape[0],64*64*3)\n",
    "\n",
    "#One Hot Encode the Output\n",
    "Y_train = tensorflow.keras.utils.to_categorical(Y_train, 131)\n",
    "Y_test = tensorflow.keras.utils.to_categorical(Y_test, 131)\n",
    "\n",
    "print('Original Sizes:', X_train.shape, X_test.shape, Y_train.shape, Y_test.shape)\n",
    "print('Flattened:', X_flat_train.shape, X_flat_test.shape)"
   ]
  },
  {
   "cell_type": "code",
   "execution_count": 22,
   "metadata": {},
   "outputs": [
    {
     "name": "stdout",
     "output_type": "stream",
     "text": [
      "(64, 64, 3)\n"
     ]
    },
    {
     "data": {
      "image/png": "[encoded data removed]",
      "text/plain": [
       "<Figure size 432x288 with 1 Axes>"
      ]
     },
     "metadata": {
      "needs_background": "light"
     },
     "output_type": "display_data"
    }
   ],
   "source": [
    "print(X_train[1200].shape)\n",
    "plt.imshow(X_train[1200])\n",
    "plt.show()"
   ]
  },
  {
   "cell_type": "code",
   "execution_count": 26,
   "metadata": {},
   "outputs": [],
   "source": [
    "from tensorflow.keras.models import Sequential,Model\n",
    "from tensorflow.keras.layers import *\n",
    "from tensorflow.keras.optimizers import Adamax\n",
    "from tensorflow.keras.activations import *\n",
    "from tensorflow.keras import backend as K"
   ]
  },
  {
   "cell_type": "code",
   "execution_count": 29,
   "metadata": {},
   "outputs": [
    {
     "name": "stdout",
     "output_type": "stream",
     "text": [
      "Model: \"sequential_1\"\n",
      "_________________________________________________________________\n",
      "Layer (type)                 Output Shape              Param #   \n",
      "=================================================================\n",
      "conv2d_4 (Conv2D)            (None, 64, 64, 16)        1216      \n",
      "_________________________________________________________________\n",
      "leaky_re_lu_4 (LeakyReLU)    (None, 64, 64, 16)        0         \n",
      "_________________________________________________________________\n",
      "batch_normalization_4 (Batch (None, 64, 64, 16)        64        \n",
      "_________________________________________________________________\n",
      "max_pooling2d_4 (MaxPooling2 (None, 32, 32, 16)        0         \n",
      "_________________________________________________________________\n",
      "conv2d_5 (Conv2D)            (None, 32, 32, 32)        12832     \n",
      "_________________________________________________________________\n",
      "leaky_re_lu_5 (LeakyReLU)    (None, 32, 32, 32)        0         \n",
      "_________________________________________________________________\n",
      "batch_normalization_5 (Batch (None, 32, 32, 32)        128       \n",
      "_________________________________________________________________\n",
      "max_pooling2d_5 (MaxPooling2 (None, 16, 16, 32)        0         \n",
      "_________________________________________________________________\n",
      "dropout_2 (Dropout)          (None, 16, 16, 32)        0         \n",
      "_________________________________________________________________\n",
      "conv2d_6 (Conv2D)            (None, 16, 16, 64)        51264     \n",
      "_________________________________________________________________\n",
      "leaky_re_lu_6 (LeakyReLU)    (None, 16, 16, 64)        0         \n",
      "_________________________________________________________________\n",
      "batch_normalization_6 (Batch (None, 16, 16, 64)        256       \n",
      "_________________________________________________________________\n",
      "max_pooling2d_6 (MaxPooling2 (None, 8, 8, 64)          0         \n",
      "_________________________________________________________________\n",
      "conv2d_7 (Conv2D)            (None, 8, 8, 128)         204928    \n",
      "_________________________________________________________________\n",
      "leaky_re_lu_7 (LeakyReLU)    (None, 8, 8, 128)         0         \n",
      "_________________________________________________________________\n",
      "batch_normalization_7 (Batch (None, 8, 8, 128)         512       \n",
      "_________________________________________________________________\n",
      "max_pooling2d_7 (MaxPooling2 (None, 4, 4, 128)         0         \n",
      "_________________________________________________________________\n",
      "flatten_1 (Flatten)          (None, 2048)              0         \n",
      "_________________________________________________________________\n",
      "dense_2 (Dense)              (None, 256)               524544    \n",
      "_________________________________________________________________\n",
      "dropout_3 (Dropout)          (None, 256)               0         \n",
      "_________________________________________________________________\n",
      "dense_3 (Dense)              (None, 131)               33667     \n",
      "_________________________________________________________________\n",
      "activation_1 (Activation)    (None, 131)               0         \n",
      "=================================================================\n",
      "Total params: 829,411\n",
      "Trainable params: 828,931\n",
      "Non-trainable params: 480\n",
      "_________________________________________________________________\n"
     ]
    }
   ],
   "source": [
    "model = Sequential()\n",
    "model.add(Conv2D(16,(5,5),input_shape=(64,64,3),padding='same'))\n",
    "model.add(LeakyReLU(0.5))\n",
    "model.add(BatchNormalization())\n",
    "model.add(MaxPooling2D(pool_size=(2,2)))\n",
    "\n",
    "model.add(Conv2D(32,(5,5),padding='same'))\n",
    "model.add(LeakyReLU(0.5))\n",
    "model.add(BatchNormalization())\n",
    "model.add(MaxPooling2D(pool_size=(2,2)))\n",
    "model.add(Dropout(0.25))\n",
    "\n",
    "\n",
    "model.add(Conv2D(64,(5,5),padding='same'))\n",
    "model.add(LeakyReLU(0.5))\n",
    "model.add(BatchNormalization())\n",
    "model.add(MaxPooling2D(pool_size=(2,2)))\n",
    "\n",
    "model.add(Conv2D(128,(5,5),padding='same'))\n",
    "model.add(LeakyReLU(0.5))\n",
    "model.add(BatchNormalization())\n",
    "model.add(MaxPooling2D(pool_size=(2,2)))\n",
    "\n",
    "model.add(Flatten())\n",
    "model.add(Dense(256,activation='relu'))\n",
    "#model.add(LeakyReLU(0.1))\n",
    "model.add(Dropout(0.5))\n",
    "model.add(Dense(131))\n",
    "model.add(Activation(\"softmax\"))\n",
    "\n",
    "model.summary()"
   ]
  },
  {
   "cell_type": "code",
   "execution_count": 30,
   "metadata": {},
   "outputs": [
    {
     "name": "stdout",
     "output_type": "stream",
     "text": [
      "Train on 67692 samples, validate on 22688 samples\n",
      "Epoch 1/12\n",
      "67692/67692 [==============================] - 103s 2ms/sample - loss: 1.8118 - accuracy: 0.5485 - val_loss: 1.9763 - val_accuracy: 0.4651\n",
      "Epoch 2/12\n",
      "67692/67692 [==============================] - 70s 1ms/sample - loss: 0.3555 - accuracy: 0.8978 - val_loss: 0.3077 - val_accuracy: 0.9095\n",
      "Epoch 3/12\n",
      "67692/67692 [==============================] - 69s 1ms/sample - loss: 0.1585 - accuracy: 0.9547 - val_loss: 0.2366 - val_accuracy: 0.9275\n",
      "Epoch 4/12\n",
      "67692/67692 [==============================] - 69s 1ms/sample - loss: 0.0925 - accuracy: 0.9740 - val_loss: 0.1785 - val_accuracy: 0.9474\n",
      "Epoch 5/12\n",
      "67692/67692 [==============================] - 69s 1ms/sample - loss: 0.0605 - accuracy: 0.9838 - val_loss: 0.1275 - val_accuracy: 0.9695\n",
      "Epoch 6/12\n",
      "67692/67692 [==============================] - 69s 1ms/sample - loss: 0.0455 - accuracy: 0.9874 - val_loss: 0.1036 - val_accuracy: 0.9766\n",
      "Epoch 7/12\n",
      "67692/67692 [==============================] - 69s 1ms/sample - loss: 0.0362 - accuracy: 0.9895 - val_loss: 0.1033 - val_accuracy: 0.9753\n",
      "Epoch 8/12\n",
      "67692/67692 [==============================] - 69s 1ms/sample - loss: 0.0265 - accuracy: 0.9927 - val_loss: 0.1202 - val_accuracy: 0.9710\n",
      "Epoch 9/12\n",
      "67692/67692 [==============================] - 69s 1ms/sample - loss: 0.0240 - accuracy: 0.9933 - val_loss: 0.1069 - val_accuracy: 0.9769\n",
      "Epoch 10/12\n",
      "67692/67692 [==============================] - 70s 1ms/sample - loss: 0.0178 - accuracy: 0.9952 - val_loss: 0.1100 - val_accuracy: 0.9721\n",
      "Epoch 11/12\n",
      "67692/67692 [==============================] - 83s 1ms/sample - loss: 0.0167 - accuracy: 0.9957 - val_loss: 0.1043 - val_accuracy: 0.9750\n",
      "Epoch 12/12\n",
      "67692/67692 [==============================] - 70s 1ms/sample - loss: 0.0158 - accuracy: 0.9954 - val_loss: 0.1122 - val_accuracy: 0.9724\n"
     ]
    },
    {
     "data": {
      "text/plain": [
       "<tensorflow.python.keras.callbacks.History at 0x29c08ea98c8>"
      ]
     },
     "execution_count": 30,
     "metadata": {},
     "output_type": "execute_result"
    }
   ],
   "source": [
    "model.compile(loss='categorical_crossentropy',\n",
    "             optimizer = Adamax(),\n",
    "             metrics=['accuracy'])\n",
    "\n",
    "model.fit(X_train,\n",
    "          Y_train,\n",
    "          batch_size=128,\n",
    "          epochs=12,\n",
    "          verbose=1,\n",
    "          validation_data = (X_test,Y_test)\n",
    "         )"
   ]
  },
  {
   "cell_type": "code",
   "execution_count": 20,
   "metadata": {},
   "outputs": [],
   "source": [
    "from tensorflow.keras.utils import plot_model\n",
    "from tensorflow.keras.models import model_from_json\n",
    "def save_model(model, name):\n",
    "    # serialize model to JSON\n",
    "    model_json = model.to_json()\n",
    "    with open(\"{}.json\".format(name), \"w\") as json_file:\n",
    "        json_file.write(model_json)\n",
    "    # serialize weights to HDF5\n",
    "    model.save_weights(\"{}.h5\".format(name))\n",
    "    plot_model(model, \"{}.png\".format(name))\n",
    "    print(\"Saved model to disk\")"
   ]
  },
  {
   "cell_type": "code",
   "execution_count": 34,
   "metadata": {},
   "outputs": [
    {
     "name": "stdout",
     "output_type": "stream",
     "text": [
      "Saved model to disk\n"
     ]
    }
   ],
   "source": [
    "save_model(model, \"PA\")"
   ]
  },
  {
   "cell_type": "code",
   "execution_count": 21,
   "metadata": {},
   "outputs": [],
   "source": [
    "from tensorflow.keras.utils import plot_model\n",
    "from tensorflow.keras.models import model_from_json\n",
    "def load_model(name):\n",
    "    # load json and create model\n",
    "    json_file = open('{}.json'.format(name), 'r')\n",
    "    loaded_model_json = json_file.read()\n",
    "    json_file.close()\n",
    "    loaded_model = model_from_json(loaded_model_json)\n",
    "    # load weights into new model\n",
    "    loaded_model.load_weights(\"{}.h5\".format(name))\n",
    "    print(\"Loaded model from disk\")\n",
    "    return loaded_model"
   ]
  },
  {
   "cell_type": "code",
   "execution_count": 10,
   "metadata": {},
   "outputs": [],
   "source": [
    "from tensorflow.keras.preprocessing import image\n",
    "import csv\n"
   ]
  },
  {
   "cell_type": "code",
   "execution_count": 22,
   "metadata": {
    "scrolled": true
   },
   "outputs": [
    {
     "name": "stdout",
     "output_type": "stream",
     "text": [
      "Loaded model from disk\n"
     ]
    },
    {
     "ename": "AttributeError",
     "evalue": "'numpy.ndarray' object has no attribute 'load_img'",
     "output_type": "error",
     "traceback": [
      "\u001b[1;31m---------------------------------------------------------------------------\u001b[0m",
      "\u001b[1;31mAttributeError\u001b[0m                            Traceback (most recent call last)",
      "\u001b[1;32m<ipython-input-22-1a65b7dca3f8>\u001b[0m in \u001b[0;36m<module>\u001b[1;34m\u001b[0m\n\u001b[0;32m      6\u001b[0m     \u001b[0mfile\u001b[0m \u001b[1;33m=\u001b[0m \u001b[1;34m\"banaan-large.jpg\"\u001b[0m\u001b[1;33m\u001b[0m\u001b[1;33m\u001b[0m\u001b[0m\n\u001b[0;32m      7\u001b[0m     \u001b[0mimage_path\u001b[0m \u001b[1;33m=\u001b[0m \u001b[1;34m\"PA/{}\"\u001b[0m\u001b[1;33m.\u001b[0m\u001b[0mformat\u001b[0m\u001b[1;33m(\u001b[0m\u001b[0mfile\u001b[0m\u001b[1;33m)\u001b[0m\u001b[1;33m\u001b[0m\u001b[1;33m\u001b[0m\u001b[0m\n\u001b[1;32m----> 8\u001b[1;33m     \u001b[0mimg\u001b[0m \u001b[1;33m=\u001b[0m \u001b[0mimage\u001b[0m\u001b[1;33m.\u001b[0m\u001b[0mload_img\u001b[0m\u001b[1;33m(\u001b[0m\u001b[0mimage_path\u001b[0m\u001b[1;33m,\u001b[0m \u001b[0mtarget_size\u001b[0m\u001b[1;33m=\u001b[0m\u001b[1;33m(\u001b[0m\u001b[1;36m64\u001b[0m\u001b[1;33m,\u001b[0m \u001b[1;36m64\u001b[0m\u001b[1;33m)\u001b[0m\u001b[1;33m)\u001b[0m\u001b[1;33m\u001b[0m\u001b[1;33m\u001b[0m\u001b[0m\n\u001b[0m\u001b[0;32m      9\u001b[0m     \u001b[0mimg\u001b[0m \u001b[1;33m=\u001b[0m \u001b[0mnp\u001b[0m\u001b[1;33m.\u001b[0m\u001b[0mexpand_dims\u001b[0m\u001b[1;33m(\u001b[0m\u001b[0mimg\u001b[0m\u001b[1;33m,\u001b[0m \u001b[0maxis\u001b[0m\u001b[1;33m=\u001b[0m\u001b[1;36m0\u001b[0m\u001b[1;33m)\u001b[0m\u001b[1;33m\u001b[0m\u001b[1;33m\u001b[0m\u001b[0m\n\u001b[0;32m     10\u001b[0m     \u001b[0mresult\u001b[0m \u001b[1;33m=\u001b[0m \u001b[0mmodelle\u001b[0m\u001b[1;33m.\u001b[0m\u001b[0mpredict\u001b[0m\u001b[1;33m(\u001b[0m\u001b[0mimg\u001b[0m\u001b[1;33m)\u001b[0m\u001b[1;33m[\u001b[0m\u001b[1;36m0\u001b[0m\u001b[1;33m]\u001b[0m\u001b[1;33m\u001b[0m\u001b[1;33m\u001b[0m\u001b[0m\n",
      "\u001b[1;31mAttributeError\u001b[0m: 'numpy.ndarray' object has no attribute 'load_img'"
     ]
    }
   ],
   "source": [
    "modelle = load_model(\"model/PA\")\n",
    "with open(\"PA/test.csv\", 'w', newline='') as f:\n",
    "    headers = ['Id', 'Category']\n",
    "    writer = csv.DictWriter(f, fieldnames=headers)\n",
    "    writer.writeheader()\n",
    "    file = \"banaan-large.jpg\"\n",
    "    image_path = \"PA/{}\".format(file)\n",
    "    img = image.load_img(image_path, target_size=(64, 64))\n",
    "    img = np.expand_dims(img, axis=0)\n",
    "    result = modelle.predict(img)[0]\n",
    "    i = np.argmax(result)\n",
    "    print(i)\n",
    "    writer.writerow({'Id': file.replace('.jpg',''), 'Category': training_label[i]})"
   ]
  },
  {
   "cell_type": "code",
   "execution_count": null,
   "metadata": {},
   "outputs": [],
   "source": []
  }
 ],
 "metadata": {
  "kernelspec": {
   "display_name": "Python 3",
   "language": "python",
   "name": "python3"
  },
  "language_info": {
   "codemirror_mode": {
    "name": "ipython",
    "version": 3
   },
   "file_extension": ".py",
   "mimetype": "text/x-python",
   "name": "python",
   "nbconvert_exporter": "python",
   "pygments_lexer": "ipython3",
   "version": "3.7.5"
  }
 },
 "nbformat": 4,
 "nbformat_minor": 4
}
